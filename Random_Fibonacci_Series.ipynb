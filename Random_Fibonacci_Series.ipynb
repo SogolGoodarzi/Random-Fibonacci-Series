{
 "cells": [
  {
   "cell_type": "markdown",
   "metadata": {},
   "source": [
    "# Part 4: Random Fibonacci Series"
   ]
  },
  {
   "cell_type": "markdown",
   "metadata": {},
   "source": [
    "# part A:"
   ]
  },
  {
   "cell_type": "code",
   "execution_count": 1,
   "metadata": {},
   "outputs": [
    {
     "name": "stdout",
     "output_type": "stream",
     "text": [
      "Confidence interval for Fibonacci(100): (1.072852026580944,1.1229816040545308)\n",
      "Confidence interval for Fibonacci(300): (1.435647846302128,1.5370946839471313)\n",
      "Confidence interval for Fibonacci(500): (1.9083311415422561,2.120096352285628)\n"
     ]
    }
   ],
   "source": [
    "import numpy as np\n",
    "import matplotlib.pyplot as plt\n",
    "n=[100,300,500]\n",
    "def Fibonacci(n): \n",
    "    f1,f2=1,1\n",
    "    fib_list=[]\n",
    "    rand_beta=[1,-1]\n",
    "    fib_list.append(f1)\n",
    "    for i in range(0,n-1):\n",
    "        fib_list.append(f2)\n",
    "        beta=np.random.randint(1,3)\n",
    "        temp=f2\n",
    "        f2=f1+(rand_beta[beta-1])*f2\n",
    "        f1=temp\n",
    "    return(abs(fib_list[n-1]))\n",
    "alpha=[]\n",
    "for j in range(0,len(n)):\n",
    "    for i in range(n[j]):\n",
    "        alpha.append(Fibonacci(i)**(1/(i+1)))\n",
    "    Xn=np.sum(alpha)/n[j]\n",
    "    var=np.sum((alpha-Xn)**2)/(n[j]-1)\n",
    "    min_=Xn-1.96*np.sqrt(var/n[j])\n",
    "    max_=Xn+1.96*np.sqrt(var/n[j])\n",
    "    print(f'Confidence interval for Fibonacci({n[j]}): ({min_},{max_})')"
   ]
  },
  {
   "cell_type": "markdown",
   "metadata": {},
   "source": [
    "# part B:"
   ]
  },
  {
   "cell_type": "code",
   "execution_count": 2,
   "metadata": {},
   "outputs": [
    {
     "name": "stdout",
     "output_type": "stream",
     "text": [
      "Exponential parameter(Landa) is: 0.01056859015007398\n"
     ]
    }
   ],
   "source": [
    "import numpy as np\n",
    "import matplotlib.pyplot as plt\n",
    "def Fibonacci(n): \n",
    "    f1,f2=1,1\n",
    "    fib_list=[]\n",
    "    rand_beta=[1,-1]\n",
    "    fib_list.append(f1)\n",
    "    for i in range(0,n-1):\n",
    "        fib_list.append(abs(f2))\n",
    "        beta=np.random.randint(1,3)\n",
    "        temp=f2\n",
    "        f2=f1+(rand_beta[beta-1])*f2\n",
    "        f1=temp\n",
    "    return(fib_list)\n",
    "sample_num=500\n",
    "sample_list=[]\n",
    "for i in range(0,sample_num):\n",
    "    sample_list.append(max(Fibonacci(25)))\n",
    "Landa=sample_num/(sum(sample_list))\n",
    "print(\"Exponential parameter(Landa) is:\",Landa)"
   ]
  },
  {
   "cell_type": "markdown",
   "metadata": {},
   "source": [
    "# part C:"
   ]
  },
  {
   "cell_type": "code",
   "execution_count": 3,
   "metadata": {},
   "outputs": [
    {
     "name": "stdout",
     "output_type": "stream",
     "text": [
      "Exponential parameter(Landa) is: 0.00945572828019214\n"
     ]
    },
    {
     "data": {
      "image/png": "[encoded data removed]",
      "text/plain": [
       "<Figure size 432x288 with 1 Axes>"
      ]
     },
     "metadata": {
      "needs_background": "light"
     },
     "output_type": "display_data"
    }
   ],
   "source": [
    "import numpy as np\n",
    "import matplotlib.pyplot as plt\n",
    "def Fibonacci(n): \n",
    "    f1,f2=1,1\n",
    "    fib_list=[]\n",
    "    rand_beta=[1,-1]\n",
    "    fib_list.append(f1)\n",
    "    for i in range(0,n-1):\n",
    "        fib_list.append(abs(f2))\n",
    "        beta=np.random.randint(1,3)\n",
    "        temp=f2\n",
    "        f2=f1+(rand_beta[beta-1])*f2\n",
    "        f1=temp\n",
    "    return(fib_list)\n",
    "sample_num=500\n",
    "sample_list=[]\n",
    "for i in range(0,sample_num):\n",
    "    sample_list.append(max(Fibonacci(25)))\n",
    "Landa=sample_num/(sum(sample_list))\n",
    "plt.hist(sample_list,bins=50,density=True,color=\"green\",label=\"Sampling estimation\")\n",
    "x=np.arange(0,5000)\n",
    "plt.plot(x,Landa*np.exp((-1)*Landa*x),color=\"red\",label=\"Exponential distribution\")\n",
    "plt.legend()\n",
    "print(\"Exponential parameter(Landa) is:\",Landa)"
   ]
  },
  {
   "cell_type": "markdown",
   "metadata": {},
   "source": [
    "# part D:"
   ]
  },
  {
   "cell_type": "code",
   "execution_count": 4,
   "metadata": {},
   "outputs": [
    {
     "data": {
      "text/plain": [
       "Text(0, 0.5, 'Expectation')"
      ]
     },
     "execution_count": 4,
     "metadata": {},
     "output_type": "execute_result"
    },
    {
     "data": {
      "image/png": "[encoded data removed]",
      "text/plain": [
       "<Figure size 432x288 with 1 Axes>"
      ]
     },
     "metadata": {
      "needs_background": "light"
     },
     "output_type": "display_data"
    }
   ],
   "source": [
    "import numpy as np\n",
    "import matplotlib.pyplot as plt\n",
    "def Fibonacci(n): \n",
    "    f1,f2=1,1\n",
    "    fib_list=[]\n",
    "    rand_beta=[1,-1]\n",
    "    fib_list.append(f1)\n",
    "    for i in range(0,n-1):\n",
    "        fib_list.append(abs(f2))\n",
    "        beta=np.random.randint(1,3)\n",
    "        temp=f2\n",
    "        f2=f1+(rand_beta[beta-1])*f2\n",
    "        f1=temp\n",
    "    return(fib_list)\n",
    "sample_num=np.arange(5,100)\n",
    "Exp=[]\n",
    "for j in range(0,len(sample_num)):\n",
    "    Landa=[]\n",
    "    for k in range(0,100):\n",
    "        sample_list=[]\n",
    "        for i in range(0,sample_num[j]):\n",
    "            sample_list.append(max(Fibonacci(25)))\n",
    "        Landa.append(sample_num[j]/(sum(sample_list)))\n",
    "    Exp.append(sum(Landa)/100)\n",
    "plt.plot(sample_num,Exp)\n",
    "plt.xlabel(\"number of samples\")\n",
    "plt.ylabel(\"Expectation\")"
   ]
  }
 ],
 "metadata": {
  "kernelspec": {
   "display_name": "Python 3",
   "language": "python",
   "name": "python3"
  },
  "language_info": {
   "codemirror_mode": {
    "name": "ipython",
    "version": 3
   },
   "file_extension": ".py",
   "mimetype": "text/x-python",
   "name": "python",
   "nbconvert_exporter": "python",
   "pygments_lexer": "ipython3",
   "version": "3.8.5"
  }
 },
 "nbformat": 4,
 "nbformat_minor": 4
}
